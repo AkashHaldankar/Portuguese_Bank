{
 "cells": [
  {
   "cell_type": "code",
   "execution_count": 84,
   "metadata": {},
   "outputs": [],
   "source": [
    "import pandas as pd\n",
    "import numpy as np\n",
    "import pickle\n",
    "from sklearn.preprocessing import MinMaxScaler\n",
    "from sklearn.linear_model import LogisticRegression\n",
    "from sklearn.metrics import f1_score, confusion_matrix\n",
    "from sklearn.metrics import precision_score, recall_score\n",
    "from sklearn.metrics import roc_auc_score\n",
    "save_path = '/home/akash/greyatom/Hackathon_1/Portuguese_Bank/data/processed/'"
   ]
  },
  {
   "cell_type": "code",
   "execution_count": 65,
   "metadata": {},
   "outputs": [],
   "source": [
    "load_path_X_train = save_path + 'X_train.csv'\n",
    "X_train = pd.read_csv(load_path_X_train,index_col=0)\n",
    "\n",
    "load_path_X_test = save_path + 'X_test.csv'\n",
    "X_test = pd.read_csv(load_path_X_test,index_col=0)\n",
    "\n",
    "load_path_Y_train = save_path + 'y_train.csv'\n",
    "y_train = pd.read_csv(load_path_Y_train,header=None)\n",
    "\n",
    "load_path_Y_test = save_path + 'y_test.csv'\n",
    "y_test = pd.read_csv(load_path_Y_test,header=None)"
   ]
  },
  {
   "cell_type": "code",
   "execution_count": 66,
   "metadata": {},
   "outputs": [
    {
     "data": {
      "text/html": [
       "<div>\n",
       "<style scoped>\n",
       "    .dataframe tbody tr th:only-of-type {\n",
       "        vertical-align: middle;\n",
       "    }\n",
       "\n",
       "    .dataframe tbody tr th {\n",
       "        vertical-align: top;\n",
       "    }\n",
       "\n",
       "    .dataframe thead th {\n",
       "        text-align: right;\n",
       "    }\n",
       "</style>\n",
       "<table border=\"1\" class=\"dataframe\">\n",
       "  <thead>\n",
       "    <tr style=\"text-align: right;\">\n",
       "      <th></th>\n",
       "      <th>job_endoded_feature</th>\n",
       "      <th>marital_endoded_feature</th>\n",
       "      <th>education_endoded_feature</th>\n",
       "      <th>default_endoded_feature</th>\n",
       "      <th>contact_endoded_feature</th>\n",
       "      <th>month_endoded_feature</th>\n",
       "      <th>poutcome_endoded_feature</th>\n",
       "      <th>euribor3m</th>\n",
       "      <th>cons_conf_idx</th>\n",
       "      <th>emp_var_rate</th>\n",
       "    </tr>\n",
       "  </thead>\n",
       "  <tbody>\n",
       "    <tr>\n",
       "      <th>2617</th>\n",
       "      <td>9</td>\n",
       "      <td>1</td>\n",
       "      <td>5</td>\n",
       "      <td>0</td>\n",
       "      <td>1</td>\n",
       "      <td>6</td>\n",
       "      <td>1</td>\n",
       "      <td>4.858</td>\n",
       "      <td>-36.4</td>\n",
       "      <td>1.1</td>\n",
       "    </tr>\n",
       "    <tr>\n",
       "      <th>3794</th>\n",
       "      <td>1</td>\n",
       "      <td>1</td>\n",
       "      <td>2</td>\n",
       "      <td>0</td>\n",
       "      <td>1</td>\n",
       "      <td>6</td>\n",
       "      <td>1</td>\n",
       "      <td>4.857</td>\n",
       "      <td>-36.4</td>\n",
       "      <td>1.1</td>\n",
       "    </tr>\n",
       "    <tr>\n",
       "      <th>225</th>\n",
       "      <td>9</td>\n",
       "      <td>2</td>\n",
       "      <td>5</td>\n",
       "      <td>0</td>\n",
       "      <td>0</td>\n",
       "      <td>6</td>\n",
       "      <td>0</td>\n",
       "      <td>1.244</td>\n",
       "      <td>-46.2</td>\n",
       "      <td>-1.8</td>\n",
       "    </tr>\n",
       "    <tr>\n",
       "      <th>1769</th>\n",
       "      <td>9</td>\n",
       "      <td>2</td>\n",
       "      <td>5</td>\n",
       "      <td>0</td>\n",
       "      <td>0</td>\n",
       "      <td>6</td>\n",
       "      <td>0</td>\n",
       "      <td>1.281</td>\n",
       "      <td>-46.2</td>\n",
       "      <td>-1.8</td>\n",
       "    </tr>\n",
       "    <tr>\n",
       "      <th>3809</th>\n",
       "      <td>9</td>\n",
       "      <td>0</td>\n",
       "      <td>5</td>\n",
       "      <td>0</td>\n",
       "      <td>1</td>\n",
       "      <td>4</td>\n",
       "      <td>1</td>\n",
       "      <td>4.958</td>\n",
       "      <td>-41.8</td>\n",
       "      <td>1.4</td>\n",
       "    </tr>\n",
       "  </tbody>\n",
       "</table>\n",
       "</div>"
      ],
      "text/plain": [
       "      job_endoded_feature  marital_endoded_feature  education_endoded_feature  \\\n",
       "2617                    9                        1                          5   \n",
       "3794                    1                        1                          2   \n",
       "225                     9                        2                          5   \n",
       "1769                    9                        2                          5   \n",
       "3809                    9                        0                          5   \n",
       "\n",
       "      default_endoded_feature  contact_endoded_feature  month_endoded_feature  \\\n",
       "2617                        0                        1                      6   \n",
       "3794                        0                        1                      6   \n",
       "225                         0                        0                      6   \n",
       "1769                        0                        0                      6   \n",
       "3809                        0                        1                      4   \n",
       "\n",
       "      poutcome_endoded_feature  euribor3m  cons_conf_idx  emp_var_rate  \n",
       "2617                         1      4.858          -36.4           1.1  \n",
       "3794                         1      4.857          -36.4           1.1  \n",
       "225                          0      1.244          -46.2          -1.8  \n",
       "1769                         0      1.281          -46.2          -1.8  \n",
       "3809                         1      4.958          -41.8           1.4  "
      ]
     },
     "execution_count": 66,
     "metadata": {},
     "output_type": "execute_result"
    }
   ],
   "source": [
    "X_train.head()"
   ]
  },
  {
   "cell_type": "code",
   "execution_count": 67,
   "metadata": {},
   "outputs": [
    {
     "data": {
      "text/html": [
       "<div>\n",
       "<style scoped>\n",
       "    .dataframe tbody tr th:only-of-type {\n",
       "        vertical-align: middle;\n",
       "    }\n",
       "\n",
       "    .dataframe tbody tr th {\n",
       "        vertical-align: top;\n",
       "    }\n",
       "\n",
       "    .dataframe thead th {\n",
       "        text-align: right;\n",
       "    }\n",
       "</style>\n",
       "<table border=\"1\" class=\"dataframe\">\n",
       "  <thead>\n",
       "    <tr style=\"text-align: right;\">\n",
       "      <th></th>\n",
       "      <th>job_endoded_feature</th>\n",
       "      <th>marital_endoded_feature</th>\n",
       "      <th>education_endoded_feature</th>\n",
       "      <th>default_endoded_feature</th>\n",
       "      <th>contact_endoded_feature</th>\n",
       "      <th>month_endoded_feature</th>\n",
       "      <th>poutcome_endoded_feature</th>\n",
       "      <th>euribor3m</th>\n",
       "      <th>cons_conf_idx</th>\n",
       "      <th>emp_var_rate</th>\n",
       "    </tr>\n",
       "  </thead>\n",
       "  <tbody>\n",
       "    <tr>\n",
       "      <th>914</th>\n",
       "      <td>7</td>\n",
       "      <td>2</td>\n",
       "      <td>3</td>\n",
       "      <td>0</td>\n",
       "      <td>0</td>\n",
       "      <td>6</td>\n",
       "      <td>0</td>\n",
       "      <td>1.281</td>\n",
       "      <td>-46.2</td>\n",
       "      <td>-1.8</td>\n",
       "    </tr>\n",
       "    <tr>\n",
       "      <th>3019</th>\n",
       "      <td>9</td>\n",
       "      <td>1</td>\n",
       "      <td>5</td>\n",
       "      <td>0</td>\n",
       "      <td>0</td>\n",
       "      <td>1</td>\n",
       "      <td>1</td>\n",
       "      <td>4.964</td>\n",
       "      <td>-36.1</td>\n",
       "      <td>1.4</td>\n",
       "    </tr>\n",
       "    <tr>\n",
       "      <th>244</th>\n",
       "      <td>9</td>\n",
       "      <td>2</td>\n",
       "      <td>5</td>\n",
       "      <td>0</td>\n",
       "      <td>0</td>\n",
       "      <td>6</td>\n",
       "      <td>1</td>\n",
       "      <td>1.327</td>\n",
       "      <td>-46.2</td>\n",
       "      <td>-1.8</td>\n",
       "    </tr>\n",
       "    <tr>\n",
       "      <th>1036</th>\n",
       "      <td>1</td>\n",
       "      <td>1</td>\n",
       "      <td>3</td>\n",
       "      <td>1</td>\n",
       "      <td>1</td>\n",
       "      <td>6</td>\n",
       "      <td>1</td>\n",
       "      <td>4.858</td>\n",
       "      <td>-36.4</td>\n",
       "      <td>1.1</td>\n",
       "    </tr>\n",
       "    <tr>\n",
       "      <th>3517</th>\n",
       "      <td>7</td>\n",
       "      <td>1</td>\n",
       "      <td>3</td>\n",
       "      <td>0</td>\n",
       "      <td>0</td>\n",
       "      <td>3</td>\n",
       "      <td>1</td>\n",
       "      <td>4.961</td>\n",
       "      <td>-42.7</td>\n",
       "      <td>1.4</td>\n",
       "    </tr>\n",
       "  </tbody>\n",
       "</table>\n",
       "</div>"
      ],
      "text/plain": [
       "      job_endoded_feature  marital_endoded_feature  education_endoded_feature  \\\n",
       "914                     7                        2                          3   \n",
       "3019                    9                        1                          5   \n",
       "244                     9                        2                          5   \n",
       "1036                    1                        1                          3   \n",
       "3517                    7                        1                          3   \n",
       "\n",
       "      default_endoded_feature  contact_endoded_feature  month_endoded_feature  \\\n",
       "914                         0                        0                      6   \n",
       "3019                        0                        0                      1   \n",
       "244                         0                        0                      6   \n",
       "1036                        1                        1                      6   \n",
       "3517                        0                        0                      3   \n",
       "\n",
       "      poutcome_endoded_feature  euribor3m  cons_conf_idx  emp_var_rate  \n",
       "914                          0      1.281          -46.2          -1.8  \n",
       "3019                         1      4.964          -36.1           1.4  \n",
       "244                          1      1.327          -46.2          -1.8  \n",
       "1036                         1      4.858          -36.4           1.1  \n",
       "3517                         1      4.961          -42.7           1.4  "
      ]
     },
     "execution_count": 67,
     "metadata": {},
     "output_type": "execute_result"
    }
   ],
   "source": [
    "X_test.head()"
   ]
  },
  {
   "cell_type": "code",
   "execution_count": 68,
   "metadata": {},
   "outputs": [
    {
     "data": {
      "text/html": [
       "<div>\n",
       "<style scoped>\n",
       "    .dataframe tbody tr th:only-of-type {\n",
       "        vertical-align: middle;\n",
       "    }\n",
       "\n",
       "    .dataframe tbody tr th {\n",
       "        vertical-align: top;\n",
       "    }\n",
       "\n",
       "    .dataframe thead th {\n",
       "        text-align: right;\n",
       "    }\n",
       "</style>\n",
       "<table border=\"1\" class=\"dataframe\">\n",
       "  <thead>\n",
       "    <tr style=\"text-align: right;\">\n",
       "      <th></th>\n",
       "      <th>0</th>\n",
       "      <th>1</th>\n",
       "    </tr>\n",
       "  </thead>\n",
       "  <tbody>\n",
       "    <tr>\n",
       "      <th>0</th>\n",
       "      <td>2617</td>\n",
       "      <td>0</td>\n",
       "    </tr>\n",
       "    <tr>\n",
       "      <th>1</th>\n",
       "      <td>3794</td>\n",
       "      <td>0</td>\n",
       "    </tr>\n",
       "    <tr>\n",
       "      <th>2</th>\n",
       "      <td>225</td>\n",
       "      <td>0</td>\n",
       "    </tr>\n",
       "    <tr>\n",
       "      <th>3</th>\n",
       "      <td>1769</td>\n",
       "      <td>0</td>\n",
       "    </tr>\n",
       "    <tr>\n",
       "      <th>4</th>\n",
       "      <td>3809</td>\n",
       "      <td>0</td>\n",
       "    </tr>\n",
       "  </tbody>\n",
       "</table>\n",
       "</div>"
      ],
      "text/plain": [
       "      0  1\n",
       "0  2617  0\n",
       "1  3794  0\n",
       "2   225  0\n",
       "3  1769  0\n",
       "4  3809  0"
      ]
     },
     "execution_count": 68,
     "metadata": {},
     "output_type": "execute_result"
    }
   ],
   "source": [
    "Y_train.head()"
   ]
  },
  {
   "cell_type": "code",
   "execution_count": 69,
   "metadata": {},
   "outputs": [],
   "source": [
    "y_train = pd.Series(np.array(y_train[1]), index=np.array(y_train[0]))\n",
    "y_test = pd.Series(np.array(y_test[1]), index=np.array(y_test[0]))"
   ]
  },
  {
   "cell_type": "code",
   "execution_count": 71,
   "metadata": {},
   "outputs": [
    {
     "name": "stdout",
     "output_type": "stream",
     "text": [
      "(3295, 10) (824, 10) (3295,) (824,)\n"
     ]
    }
   ],
   "source": [
    "print(X_train.shape,X_test.shape,y_train.shape,y_test.shape)"
   ]
  },
  {
   "cell_type": "code",
   "execution_count": 76,
   "metadata": {},
   "outputs": [
    {
     "name": "stderr",
     "output_type": "stream",
     "text": [
      "/home/akash/venv/bank_portuguese/lib/python3.5/site-packages/sklearn/linear_model/logistic.py:433: FutureWarning: Default solver will be changed to 'lbfgs' in 0.22. Specify a solver to silence this warning.\n",
      "  FutureWarning)\n"
     ]
    }
   ],
   "source": [
    "scalar = MinMaxScaler()\n",
    "scalar.fit(X_train)\n",
    "X_train = scalar.transform(X_train)\n",
    "\n",
    "X_test = scalar.transform(X_test)\n",
    "model = LogisticRegression()\n",
    "model.fit(X_train,y_train)\n",
    "y_pred = model.predict(X_test)"
   ]
  },
  {
   "cell_type": "code",
   "execution_count": 79,
   "metadata": {},
   "outputs": [
    {
     "name": "stdout",
     "output_type": "stream",
     "text": [
      "0.8968446601941747\n",
      "0.6190476190476191\n",
      "0.14444444444444443\n",
      "0.23423423423423423\n",
      "[[726   8]\n",
      " [ 77  13]]\n"
     ]
    }
   ],
   "source": [
    "accuracy = model.score(X_test,y_test)\n",
    "\n",
    "print(accuracy)\n",
    "\n",
    "precision = precision_score(y_test,y_pred)\n",
    "\n",
    "print(precision)\n",
    "\n",
    "recall = recall_score(y_test,y_pred)\n",
    "\n",
    "print(recall)\n",
    "\n",
    "f1 = f1_score(y_test,y_pred)\n",
    "\n",
    "print(f1)\n",
    "\n",
    "confusion_mat = confusion_matrix(y_test,y_pred)\n",
    "\n",
    "print(confusion_mat)"
   ]
  },
  {
   "cell_type": "code",
   "execution_count": 80,
   "metadata": {},
   "outputs": [
    {
     "name": "stdout",
     "output_type": "stream",
     "text": [
      "0.5667726309415683\n"
     ]
    }
   ],
   "source": [
    "from sklearn.metrics import roc_auc_score\n",
    "roc = roc_auc_score(y_test,y_pred)\n",
    "print(roc)"
   ]
  },
  {
   "cell_type": "code",
   "execution_count": 85,
   "metadata": {},
   "outputs": [],
   "source": [
    "# save the model to disk\n",
    "save_path = '/home/akash/greyatom/Hackathon_1/Portuguese_Bank/models/Logistic_Regression'\n",
    "pickle.dump(model, open(save_path, 'wb'))"
   ]
  },
  {
   "cell_type": "code",
   "execution_count": null,
   "metadata": {},
   "outputs": [],
   "source": [
    "# load the model from disk\n",
    "loaded_model = pickle.load(open(filename, 'rb'))"
   ]
  }
 ],
 "metadata": {
  "kernelspec": {
   "display_name": "Python 3",
   "language": "python",
   "name": "python3"
  },
  "language_info": {
   "codemirror_mode": {
    "name": "ipython",
    "version": 3
   },
   "file_extension": ".py",
   "mimetype": "text/x-python",
   "name": "python",
   "nbconvert_exporter": "python",
   "pygments_lexer": "ipython3",
   "version": "3.5.2"
  }
 },
 "nbformat": 4,
 "nbformat_minor": 2
}
